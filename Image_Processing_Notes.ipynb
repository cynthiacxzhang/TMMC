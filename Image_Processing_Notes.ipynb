{
  "nbformat": 4,
  "nbformat_minor": 0,
  "metadata": {
    "colab": {
      "provenance": [],
      "authorship_tag": "ABX9TyOX84IuNdU9WGqRiPjZRu2o",
      "include_colab_link": true
    },
    "kernelspec": {
      "name": "python3",
      "display_name": "Python 3"
    },
    "language_info": {
      "name": "python"
    }
  },
  "cells": [
    {
      "cell_type": "markdown",
      "metadata": {
        "id": "view-in-github",
        "colab_type": "text"
      },
      "source": [
        "<a href=\"https://colab.research.google.com/github/cynthiacxzhang/TMMC/blob/notes/Image_Processing_Notes.ipynb\" target=\"_parent\"><img src=\"https://colab.research.google.com/assets/colab-badge.svg\" alt=\"Open In Colab\"/></a>"
      ]
    },
    {
      "cell_type": "code",
      "execution_count": null,
      "metadata": {
        "id": "Ld9p516SXNd4"
      },
      "outputs": [],
      "source": [
        "#Image Processing Basics"
      ]
    },
    {
      "cell_type": "markdown",
      "source": [
        "Step 1: Mounting Google Drive to Save Files\n",
        "\n",
        "*   saves any files captured in this notebook to the connected drive\n",
        "\n",
        "Step 2: Importing all relevant libraries\n",
        "\n",
        "*   check out libraries in the fundamentals folder\n",
        "\n",
        "Step 3a: Read, Show, Write Images\n",
        "\n",
        "*   Binary: 2D array - value 0 or 255\n",
        "*   Grayscale: 2D array - value is between 0 and 255\n",
        "*   RGB: 3D array - value is between 0 and 255\n"
      ],
      "metadata": {
        "id": "aXPNwnr6XdZR"
      }
    },
    {
      "cell_type": "code",
      "source": [
        "#Step 3 - Loading & Reading Images\n",
        "\n",
        "MainImgBGR = cv2.imread('img', cv2.IMREAD_UNCHANGED) #loading/reading the image, returning it as it to the MainImgBGR that stores the image\n",
        "\n",
        "#Matplotlib uses RBG --> must convert BGR to RGB\n",
        "\n",
        "\n",
        "#Showing and image\n",
        "\n",
        "\n",
        "#Setting a title for the image\n",
        "\n",
        "\n"
      ],
      "metadata": {
        "id": "My0QukrJZBtn"
      },
      "execution_count": null,
      "outputs": []
    },
    {
      "cell_type": "markdown",
      "source": [
        "Step 3b: Basic Conversions and Thresholding\n",
        "\n"
      ],
      "metadata": {
        "id": "5ExxLj6QZ9_J"
      }
    },
    {
      "cell_type": "code",
      "source": [],
      "metadata": {
        "id": "smFzM612NMQS"
      },
      "execution_count": null,
      "outputs": []
    },
    {
      "cell_type": "markdown",
      "source": [
        "Step 3c: Image Rotation\n",
        "\n",
        "*   Matrix Manual Rotation - LinAlg Theory (Note - self developed)\n",
        "\n",
        "Original 2D Array/Matrix - pixel by pixel of the loaded image\n",
        "\n",
        "  Step 1 - take the transpose of the original matrix\n",
        "  Step 2 - perform matrix multiplication of the transposed matrix and the exchange matrix\n",
        "    - (exchange or reverse-identity matrix)\n",
        "    - must have same number of columns as the transposed original matrix's rows\n",
        "\n",
        "Result: this final matrix is a counter clockwise rotation of 90 degrees of the original matrix (e.g. right 90 degree flip of the image using matrix arithmetic)\n",
        "\n",
        "*   Image Rotation - 3 point Theory\n",
        "\n",
        "Picking any three points on an image matrix and transposing\n",
        "\n",
        "origin (left top), right (total columns - 1), left bottom (total rows - 1)\n",
        "  - essentially working with 2D array values\n",
        "\n",
        "origin (left top 0, 0) --> right top (total columns - 1, 0)\n",
        "right (total columns - 1) --> origin (left top)\n",
        "left bottom (total rows - 1) --> right bottom (columns - 1, rows -1)\n",
        "\n",
        "  - this is probably not right\n",
        "\n",
        "\n"
      ],
      "metadata": {
        "id": "dq7Fekf8NMtu"
      }
    },
    {
      "cell_type": "markdown",
      "source": [
        "Step 4: Shape Detection"
      ],
      "metadata": {
        "id": "VvCN7ooFTVwA"
      }
    }
  ]
}